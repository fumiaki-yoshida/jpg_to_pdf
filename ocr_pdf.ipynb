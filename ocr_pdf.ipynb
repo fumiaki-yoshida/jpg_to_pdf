{
 "cells": [
  {
   "cell_type": "code",
   "execution_count": 8,
   "id": "06f8d6b2",
   "metadata": {},
   "outputs": [],
   "source": [
    "from pdf2image import convert_from_path \n",
    "from pdfminer.high_level import extract_text\n",
    "from PIL import Image\n",
    "import sys\n",
    "\n",
    "import pyocr\n",
    "import pyocr.builders"
   ]
  },
  {
   "cell_type": "code",
   "execution_count": 2,
   "id": "c5f929bd",
   "metadata": {},
   "outputs": [],
   "source": [
    "pdf_file_text = \"./data/yachin_shien.pdf\"\n",
    "text= extract_text(pdf_file_text)"
   ]
  },
  {
   "cell_type": "code",
   "execution_count": 3,
   "id": "977b338e",
   "metadata": {},
   "outputs": [
    {
     "data": {
      "text/plain": [
       "'≪テナント家賃の支払いを支援する制度について≫\\n\\n以下の制度により給付を受け、又は融資を受けた金額は、\\nテナント家賃の支払いに充てることが可能です。ご活用ください。\\n\\n①給付金\\n\\n国\\n\\n・日本政策金融公庫等\\n・民間金融機関\\n\\nテナント\\n\\nテナント\\nオーナー\\n\\n②融資\\n\\n家賃支払\\n\\n① 給付金\\n\\n○ 事業継続のための持続化給付金 【GW明け頃から支給開始】\\n\\n→ 詳細は中小企業庁ＨＰまで\\n\\n（上限額）中堅・中小法人200万円、個人事業者100万円\\n\\n※ 2020年１～12月のうち、前年同月比で売上が50%以上減少している事業者の方が対象\\n\\n〇 上記の他、新型コロナウイルス感染症対応地方創生臨時交付金等を活用して、地方自治体が\\n独自に事業者に協力金等を給付する場合、これも家賃支払いに充てることが可能です。最寄り\\nの自治体にお問い合わせください。\\n\\n② 融資\\n\\n○ 実質無利子・無担保・元本返済の据置最大５年の融資\\n\\n【①②は融資を開始済み。③は補正予算成立後速やかに融資を開始】\\n\\n→ 詳細は中小企業庁HPまで\\n\\n① 日本政策金融公庫の新型コロナウイルス感染症特別貸付\\n\\n上限３億６０００万円（無利子上限１億３０００万円、当初３年間(※１)）\\n※ 上記の上限は公庫の国民生活事業と中小企業事業を併用した場合\\n\\n（生活衛生関係営業者向け）\\n〇 生活衛生関係営業新型コロナウイルス感染症特別貸付\\n\\n上限６０００万円（上記と併用可能）（無利子上限３０００万円、当初３年間(※１)）\\n\\n② 商工組合中央金庫の危機対応融資\\n\\n上限３億円（無利子上限１億円、当初３年間(※１)）\\n\\n③ 民間金融機関による無利子融資\\n\\n各都道府県等の制度融資：無利子上限３０００万円、当初３年間（※２）\\n\\n（※１）・・売上減少要件（個人事業主５％減、小規模事業者１５％減、中規模事業者２０％減）\\n（※２）・・売上減少要件（個人事業主５％減、小・中規模事業者１５％減）\\n\\n（参考）賃貸借契約の考え方 【法務省民事局】\\n〇 日本の民法の解釈では、賃料不払を理由に賃貸借契約を解除するには，賃貸人と賃借人の信頼関係が破壊されて\\nいることが必要です。最終的には事案ごとの判断となりますが， 新型コロナウイルスの影響により３カ月程度の賃\\n料不払が生じても、不払の前後の状況等を踏まえ、信頼関係は破壊されておらず、契約解除（立ち退き請求）が認\\nめられないケースも多いと考えられます。\\n\\n\\x0c'"
      ]
     },
     "execution_count": 3,
     "metadata": {},
     "output_type": "execute_result"
    }
   ],
   "source": [
    "text"
   ]
  },
  {
   "cell_type": "code",
   "execution_count": 4,
   "id": "29ec18db",
   "metadata": {},
   "outputs": [],
   "source": [
    "pdf_file_notext = \"./data/pdf_test/20190528_1.pdf\""
   ]
  },
  {
   "cell_type": "code",
   "execution_count": 5,
   "id": "ca6a5b30",
   "metadata": {},
   "outputs": [
    {
     "data": {
      "text/plain": [
       "'\\x0c\\x0c'"
      ]
     },
     "execution_count": 5,
     "metadata": {},
     "output_type": "execute_result"
    }
   ],
   "source": [
    "extract_text(pdf_file_notext)"
   ]
  },
  {
   "cell_type": "code",
   "execution_count": 6,
   "id": "004ca1c9",
   "metadata": {},
   "outputs": [
    {
     "data": {
      "text/plain": [
       "[<PIL.JpegImagePlugin.JpegImageFile image mode=RGB size=1643x2342 at 0x174C10986A0>,\n",
       " <PIL.JpegImagePlugin.JpegImageFile image mode=RGB size=1642x2341 at 0x174C10985B0>]"
      ]
     },
     "execution_count": 6,
     "metadata": {},
     "output_type": "execute_result"
    }
   ],
   "source": [
    "convert_from_path(pdf_path=pdf_file_notext,fmt='jpeg', output_folder=\"./data/pdf_test\")"
   ]
  },
  {
   "cell_type": "markdown",
   "id": "70062a9f",
   "metadata": {},
   "source": [
    "# OCRについて\n",
    "\n",
    "PDFは位置と図形の情報を持っている  \n",
    "OCRを行おうとする場合、文字が埋め込まれていないと一度図形に変換する必要がある。  \n",
    "\n",
    "## pythonで使えるOCRモジュール\n",
    "\n",
    "### [tesseract](https://github.com/tesseract-ocr/tesseract)\n",
    "    \n",
    "- Googleが開発してるけどオープンソース  \n",
    "\n",
    "ソフトなので一度インストールしてからpython越しに使う必要がある。    \n",
    " "
   ]
  },
  {
   "cell_type": "code",
   "execution_count": 11,
   "id": "afb37c70",
   "metadata": {},
   "outputs": [
    {
     "name": "stdout",
     "output_type": "stream",
     "text": [
      "Will use tool 'Tesseract (sh)'\n",
      "Available languages: eng, jpn, jpn_vert, osd\n",
      "Will use lang 'jpn'\n"
     ]
    }
   ],
   "source": [
    "tools = pyocr.get_available_tools()\n",
    "if len(tools) == 0:\n",
    "    print(\"No OCR tool found\")\n",
    "    sys.exit(1)\n",
    "# The tools are returned in the recommended order of usage\n",
    "tool = tools[0]\n",
    "print(\"Will use tool '%s'\" % (tool.get_name()))\n",
    "# Ex: Will use tool 'libtesseract'\n",
    "\n",
    "langs = tool.get_available_languages()\n",
    "print(\"Available languages: %s\" % \", \".join(langs))\n",
    "lang = langs[1]\n",
    "print(\"Will use lang '%s'\" % (lang))\n",
    "# Ex: Will use lang 'fra'\n",
    "# Note that languages are NOT sorted in any way. Please refer\n",
    "# to the system locale settings for the default language\n",
    "# to use.\n"
   ]
  },
  {
   "cell_type": "code",
   "execution_count": 12,
   "id": "f02822e0",
   "metadata": {},
   "outputs": [],
   "source": [
    "test_img = \"./data/pdf_test/8c268236-02dc-45b3-b067-e6a0a5742d77-1.jpg\"\n",
    "\n",
    "txt = tool.image_to_string(\n",
    "    Image.open(test_img),\n",
    "    lang=lang,\n",
    "    builder=pyocr.builders.TextBuilder()\n",
    ")\n",
    "# txt is a Python string\n",
    "\n",
    "word_boxes = tool.image_to_string(\n",
    "    Image.open(test_img),\n",
    "    lang=\"jpn\",\n",
    "    builder=pyocr.builders.WordBoxBuilder()\n",
    ")"
   ]
  },
  {
   "cell_type": "code",
   "execution_count": 19,
   "id": "1f7b9100",
   "metadata": {},
   "outputs": [
    {
     "data": {
      "text/plain": [
       "['2019年5月28日',\n",
       " '株式会社アンサンヒーロー',\n",
       " '',\n",
       " '',\n",
       " '',\n",
       " 'ピロ野球ソフトバンク2軍通訳ウィルフレイセル・ゲレーロ(32)',\n",
       " '',\n",
       " '',\n",
       " '',\n",
       " '一必要なら球団広報と話します',\n",
       " '',\n",
       " '',\n",
       " '',\n",
       " 'ウィルフレイセル・ゲレーロ(WilfreiserGuerrero)',\n",
       " '1986年10月17日生まれ(32歳)',\n",
       " '',\n",
       " 'ドミニカ共和国出身',\n",
       " '',\n",
       " '195センチ、110キロ。',\n",
       " '',\n",
       " '',\n",
       " '',\n",
       " '08年に広島練習生として来日。',\n",
       " '',\n",
       " '独立リーグを経てプロでは1軍登板できなかったが、',\n",
       " 'ドミニカ帰国後に日本から通訳の誘いが。',\n",
       " '',\n",
       " '娘を母国に残し、17年から単身赴任でジャパニーズ・ドリームを模索中。',\n",
       " '担当のコラス外野手は2軍でトップクラスの成績を挙げており、',\n",
       " '',\n",
       " '7月の期限までに支配下登録きれれば、',\n",
       " '',\n",
       " '心身のサポートに努めたゲレーロ通訳も報われるところ。',\n",
       " '',\n",
       " '',\n",
       " '',\n",
       " 'ぐ経歴>',\n",
       " '',\n",
       " 'AlivoPaulino高校',\n",
       " '',\n",
       " '2007年\"広島カープ・ドミニカベースポールアカデミー',\n",
       " '2008年長崎セインツ',\n",
       " '',\n",
       " '2009年徳島インディゴソックス']"
      ]
     },
     "execution_count": 19,
     "metadata": {},
     "output_type": "execute_result"
    }
   ],
   "source": [
    "text_list = txt.replace(\" \",\"\").split(\"\\n\")\n",
    "text_list"
   ]
  },
  {
   "cell_type": "code",
   "execution_count": null,
   "id": "c84d86aa",
   "metadata": {},
   "outputs": [],
   "source": []
  }
 ],
 "metadata": {
  "kernelspec": {
   "display_name": "Python 3 (ipykernel)",
   "language": "python",
   "name": "python3"
  },
  "language_info": {
   "codemirror_mode": {
    "name": "ipython",
    "version": 3
   },
   "file_extension": ".py",
   "mimetype": "text/x-python",
   "name": "python",
   "nbconvert_exporter": "python",
   "pygments_lexer": "ipython3",
   "version": "3.9.7"
  },
  "toc": {
   "base_numbering": 1,
   "nav_menu": {},
   "number_sections": true,
   "sideBar": true,
   "skip_h1_title": false,
   "title_cell": "Table of Contents",
   "title_sidebar": "Contents",
   "toc_cell": false,
   "toc_position": {},
   "toc_section_display": true,
   "toc_window_display": false
  }
 },
 "nbformat": 4,
 "nbformat_minor": 5
}
